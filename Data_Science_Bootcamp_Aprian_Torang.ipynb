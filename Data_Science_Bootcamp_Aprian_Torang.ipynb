{
  "nbformat": 4,
  "nbformat_minor": 0,
  "metadata": {
    "colab": {
      "provenance": [],
      "authorship_tag": "ABX9TyPGxpfXHAAGPVzkMkxh+j8+",
      "include_colab_link": true
    },
    "kernelspec": {
      "name": "python3",
      "display_name": "Python 3"
    },
    "language_info": {
      "name": "python"
    }
  },
  "cells": [
    {
      "cell_type": "markdown",
      "metadata": {
        "id": "view-in-github",
        "colab_type": "text"
      },
      "source": [
        "<a href=\"https://colab.research.google.com/github/aprianwaratorang/datasciencebootcamp_assignments/blob/main/Data_Science_Bootcamp_Aprian_Torang.ipynb\" target=\"_parent\"><img src=\"https://colab.research.google.com/assets/colab-badge.svg\" alt=\"Open In Colab\"/></a>"
      ]
    },
    {
      "cell_type": "markdown",
      "source": [
        "#ASSIGNMENT 1"
      ],
      "metadata": {
        "id": "DH0ev4pED4Y_"
      }
    },
    {
      "cell_type": "markdown",
      "source": [
        "## Q1\n"
      ],
      "metadata": {
        "id": "2TKIgteWD-MM"
      }
    },
    {
      "cell_type": "code",
      "execution_count": 9,
      "metadata": {
        "id": "07ZCL9HwDwJF"
      },
      "outputs": [],
      "source": [
        "#Write a function  count_vowels(word) that takes a word as an argument and returns the number of vowels in the word\n",
        "\n",
        "def count_vowels (word):\n",
        "  vowels = [\"a\", \"i\", \"u\", \"e\", \"o\"]\n",
        "  my_list = list(word)\n",
        "  vowels_num = 0\n",
        "  for i in range(len(my_list)):\n",
        "    if my_list[i] in vowels:\n",
        "      vowels_num +=1\n",
        "  return vowels_num"
      ]
    },
    {
      "cell_type": "code",
      "source": [
        "#Test\n",
        "count_vowels(\"aiueoaiueo\")"
      ],
      "metadata": {
        "colab": {
          "base_uri": "https://localhost:8080/"
        },
        "id": "SnkS6_yLFr04",
        "outputId": "6396e935-e1ef-4829-f906-a27a95e9519c"
      },
      "execution_count": 13,
      "outputs": [
        {
          "output_type": "execute_result",
          "data": {
            "text/plain": [
              "10"
            ]
          },
          "metadata": {},
          "execution_count": 13
        }
      ]
    },
    {
      "cell_type": "markdown",
      "source": [
        "#Q2"
      ],
      "metadata": {
        "id": "8evLEFt3HJU4"
      }
    },
    {
      "cell_type": "code",
      "source": [
        "#Iterate through the following list of animals and print each one in all caps.\n",
        "\n",
        "animals=['tiger', 'elephant', 'monkey', 'zebra', 'panther']\n",
        "animals_new_list = []\n",
        "for animal in animals:\n",
        "  animals_caps = animal.upper()\n",
        "  animals_new_list.append(animals_caps)\n",
        "animals_new_list\n"
      ],
      "metadata": {
        "colab": {
          "base_uri": "https://localhost:8080/"
        },
        "id": "A2kpa6ZYHLU7",
        "outputId": "968bf149-cbef-434c-e679-9e2e68b8cf7d"
      },
      "execution_count": 27,
      "outputs": [
        {
          "output_type": "execute_result",
          "data": {
            "text/plain": [
              "['TIGER', 'ELEPHANT', 'MONKEY', 'ZEBRA', 'PANTHER']"
            ]
          },
          "metadata": {},
          "execution_count": 27
        }
      ]
    },
    {
      "cell_type": "markdown",
      "source": [
        "#Q3"
      ],
      "metadata": {
        "id": "RVRI7jYbJjpr"
      }
    },
    {
      "cell_type": "code",
      "source": [
        "#Write a program that iterates from 1 to 20, printing each number and whether it's odd or even.\n",
        "while True:\n",
        "  num = int(input(\"Type your number from 1 to 20 :  \" ))\n",
        "  if num > 20:\n",
        "    print(\"The number you typed is out of range\")\n",
        "  elif num < 1:\n",
        "    print(\"The number you typed is out of range\")\n",
        "  elif 1 <= num <= 20 :\n",
        "    if num % 2 == 0 :\n",
        "      print (f\"your number is {num} and it is an EVEN number\")\n",
        "    elif num % 2 == 1:\n",
        "      print (f\"your number is {num} and it is an ODD number\")\n",
        "    break\n"
      ],
      "metadata": {
        "id": "PxRGKs0nJlcQ"
      },
      "execution_count": null,
      "outputs": []
    },
    {
      "cell_type": "markdown",
      "source": [
        "#Q4"
      ],
      "metadata": {
        "id": "JGsw2RvfM3Rq"
      }
    },
    {
      "cell_type": "code",
      "source": [
        "#Write a function sum_of_integers(a, b) that takes two integers as input from the user and returns their sum.\n",
        "\n",
        "def sum_of_integers(a,b):\n",
        "  num1 = int(a)\n",
        "  num2 = int(b)\n",
        "  sum = num1 + num2\n",
        "  return sum"
      ],
      "metadata": {
        "id": "W47kqoIhM59m"
      },
      "execution_count": 43,
      "outputs": []
    },
    {
      "cell_type": "code",
      "source": [
        "sum_of_integers(2,14)"
      ],
      "metadata": {
        "colab": {
          "base_uri": "https://localhost:8080/"
        },
        "id": "Dq6cQJRCN9IL",
        "outputId": "d71fa504-27f1-42bd-cf1a-030d04a247ba"
      },
      "execution_count": 45,
      "outputs": [
        {
          "output_type": "execute_result",
          "data": {
            "text/plain": [
              "16"
            ]
          },
          "metadata": {},
          "execution_count": 45
        }
      ]
    }
  ]
}